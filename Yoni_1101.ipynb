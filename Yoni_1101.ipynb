{
 "cells": [
  {
   "cell_type": "code",
   "execution_count": 1,
   "metadata": {},
   "outputs": [
    {
     "name": "stdout",
     "output_type": "stream",
     "text": [
      "2.3.0\n"
     ]
    }
   ],
   "source": [
    "from keras.preprocessing.image import ImageDataGenerator\n",
    "import tensorflow as tf\n",
    "print(tf.__version__)"
   ]
  },
  {
   "cell_type": "markdown",
   "metadata": {},
   "source": [
    "### Hier laden we de data in. Foto's van paarse en witte bloemen.\n",
    "Deze zijn vooraf gedefineerd in het directory.\n",
    "Ook zal de data het opschonings proces doorlopen zoals beschreven staat in de documentatie"
   ]
  },
  {
   "cell_type": "code",
   "execution_count": 2,
   "metadata": {},
   "outputs": [
    {
     "name": "stdout",
     "output_type": "stream",
     "text": [
      "Found 414 images belonging to 2 classes.\n"
     ]
    }
   ],
   "source": [
    "train_datagen = ImageDataGenerator(\n",
    "        rescale=1./255,\n",
    "        shear_range=0.2,\n",
    "        zoom_range=0.2,\n",
    "        horizontal_flip=True)\n",
    "\n",
    "training_set = train_datagen.flow_from_directory('C:/Users/Nicke/OneDrive - Hogeschool Leiden/Documenten/Project_Yoni/Data/training',\n",
    "        target_size=(64, 64),\n",
    "        batch_size=32,\n",
    "        class_mode='binary')"
   ]
  },
  {
   "cell_type": "code",
   "execution_count": 3,
   "metadata": {},
   "outputs": [
    {
     "name": "stdout",
     "output_type": "stream",
     "text": [
      "Found 50 images belonging to 2 classes.\n"
     ]
    }
   ],
   "source": [
    "test_datagen = ImageDataGenerator(rescale=1./255)\n",
    "\n",
    "test_set = test_datagen.flow_from_directory('C:/Users/Nicke/OneDrive - Hogeschool Leiden/Documenten/Project_Yoni/Data/test',\n",
    "        target_size=(64, 64),\n",
    "        batch_size=32,\n",
    "        class_mode='binary')"
   ]
  },
  {
   "cell_type": "markdown",
   "metadata": {},
   "source": [
    "### Hier gaan we het CNN model bouwen"
   ]
  },
  {
   "cell_type": "code",
   "execution_count": 4,
   "metadata": {},
   "outputs": [],
   "source": [
    "cnn = tf.keras.models.Sequential(name=\"100120231515\")\n",
    "\n",
    "cnn.add(tf.keras.layers.Conv2D(filters=32, kernel_size=3, activation='relu',input_shape=[64,64,3]))\n",
    "cnn.add(tf.keras.layers.MaxPool2D(pool_size=2, strides=2))\n",
    "\n",
    "cnn.add(tf.keras.layers.Conv2D(filters=32, kernel_size=3, activation='relu'))\n",
    "cnn.add(tf.keras.layers.MaxPool2D(pool_size=2, strides=2))\n",
    "\n",
    "cnn.add(tf.keras.layers.Flatten())\n",
    "\n",
    "cnn.add(tf.keras.layers.Dense(units=128, activation='relu'))\n",
    "\n",
    "\n",
    "cnn.add(tf.keras.layers.Dense(units=1, activation='sigmoid'))   # output layer"
   ]
  },
  {
   "cell_type": "code",
   "execution_count": 5,
   "metadata": {},
   "outputs": [],
   "source": [
    "cnn.compile(loss='binary_crossentropy',metrics=['accuracy'], optimizer='adam')"
   ]
  },
  {
   "cell_type": "markdown",
   "metadata": {},
   "source": [
    "### Nu gaan we het model trainen!"
   ]
  },
  {
   "cell_type": "code",
   "execution_count": 6,
   "metadata": {},
   "outputs": [
    {
     "name": "stdout",
     "output_type": "stream",
     "text": [
      "13/13 [==============================] - 8s 630ms/step - loss: 0.6405 - accuracy: 0.6908 - val_loss: 0.4647 - val_accuracy: 0.8400\n"
     ]
    },
    {
     "data": {
      "text/plain": [
       "<tensorflow.python.keras.callbacks.History at 0x1bffc873400>"
      ]
     },
     "execution_count": 6,
     "metadata": {},
     "output_type": "execute_result"
    }
   ],
   "source": [
    "cnn.fit(x = training_set, validation_data = test_set, epochs = 1)"
   ]
  },
  {
   "cell_type": "code",
   "execution_count": 38,
   "metadata": {},
   "outputs": [],
   "source": [
    "cnn.save('100120231515_training.h5')"
   ]
  },
  {
   "cell_type": "markdown",
   "metadata": {},
   "source": [
    "### Doe een enkele voorspelling op een nieuwe foto"
   ]
  },
  {
   "cell_type": "code",
   "execution_count": 7,
   "metadata": {},
   "outputs": [],
   "source": [
    "import numpy as np\n",
    "from keras.preprocessing import image\n",
    "import os"
   ]
  },
  {
   "cell_type": "code",
   "execution_count": 8,
   "metadata": {},
   "outputs": [
    {
     "name": "stdout",
     "output_type": "stream",
     "text": [
      "['image_00406.jpg', 'image_00407.jpg', 'image_00408.jpg', 'image_00409.jpg', 'image_00410.jpg', 'image_00411.jpg', 'image_00412.jpg', 'image_00413.jpg', 'image_00414.jpg', 'image_00415.jpg', 'image_00416.jpg', 'image_00417.jpg', 'image_00418.jpg', 'image_00419.jpg', 'image_00420.jpg', 'image_00423.jpg', 'image_00424.jpg', 'image_00425.jpg', 'image_00426.jpg', 'image_00427.jpg', 'image_00428.jpg', 'image_00429.jpg', 'image_00430.jpg', 'image_00431.jpg', 'image_00432.jpg']\n"
     ]
    }
   ],
   "source": [
    "files_list = []\n",
    "path = 'C:/Users/Nicke/OneDrive - Hogeschool Leiden/Documenten/Project_Yoni/Data/test/white/'\n",
    "\n",
    "for file in os.listdir(path):\n",
    "    if file.endswith(\".jpg\"):\n",
    "        files_list.append(file)\n",
    "\n",
    "print(files_list)"
   ]
  },
  {
   "cell_type": "code",
   "execution_count": 9,
   "metadata": {},
   "outputs": [
    {
     "name": "stdout",
     "output_type": "stream",
     "text": [
      "image_00406.jpg\n",
      "{'purple': 0, 'white': 1}\n",
      "0.0\n",
      "image_00407.jpg\n",
      "{'purple': 0, 'white': 1}\n",
      "4.434075e-37\n",
      "image_00408.jpg\n",
      "{'purple': 0, 'white': 1}\n",
      "1.0\n",
      "image_00409.jpg\n",
      "{'purple': 0, 'white': 1}\n",
      "1.0\n",
      "image_00410.jpg\n",
      "{'purple': 0, 'white': 1}\n",
      "1.0\n",
      "image_00411.jpg\n",
      "{'purple': 0, 'white': 1}\n",
      "1.0\n",
      "image_00412.jpg\n",
      "{'purple': 0, 'white': 1}\n",
      "1.0\n",
      "image_00413.jpg\n",
      "{'purple': 0, 'white': 1}\n",
      "0.0\n",
      "image_00414.jpg\n",
      "{'purple': 0, 'white': 1}\n",
      "1.0\n",
      "image_00415.jpg\n",
      "{'purple': 0, 'white': 1}\n",
      "0.0\n",
      "image_00416.jpg\n",
      "{'purple': 0, 'white': 1}\n",
      "1.0\n",
      "image_00417.jpg\n",
      "{'purple': 0, 'white': 1}\n",
      "1.0\n",
      "image_00418.jpg\n",
      "{'purple': 0, 'white': 1}\n",
      "1.0\n",
      "image_00419.jpg\n",
      "{'purple': 0, 'white': 1}\n",
      "1.0\n",
      "image_00420.jpg\n",
      "{'purple': 0, 'white': 1}\n",
      "9.344872e-10\n",
      "image_00423.jpg\n",
      "{'purple': 0, 'white': 1}\n",
      "1.0\n",
      "image_00424.jpg\n",
      "{'purple': 0, 'white': 1}\n",
      "1.0\n",
      "image_00425.jpg\n",
      "{'purple': 0, 'white': 1}\n",
      "4.562259e-16\n",
      "image_00426.jpg\n",
      "{'purple': 0, 'white': 1}\n",
      "1.0\n",
      "image_00427.jpg\n",
      "{'purple': 0, 'white': 1}\n",
      "1.0\n",
      "image_00428.jpg\n",
      "{'purple': 0, 'white': 1}\n",
      "1.0\n",
      "image_00429.jpg\n",
      "{'purple': 0, 'white': 1}\n",
      "1.0\n",
      "image_00430.jpg\n",
      "{'purple': 0, 'white': 1}\n",
      "1.0\n",
      "image_00431.jpg\n",
      "{'purple': 0, 'white': 1}\n",
      "0.9996474\n",
      "image_00432.jpg\n",
      "{'purple': 0, 'white': 1}\n",
      "1.0\n"
     ]
    }
   ],
   "source": [
    "def a(test):\n",
    "    test_image = image.load_img(\n",
    "        test, \n",
    "        target_size=(64,64))\n",
    "    test_image = image.img_to_array(test_image)\n",
    "    test_image = np.expand_dims(test_image, axis = 0)\n",
    "    result = cnn.predict(test_image)\n",
    "\n",
    "    print(training_set.class_indices)\n",
    "    print(result[0][0])\n",
    "\n",
    "for i in files_list:\n",
    "    print(i)\n",
    "    a(\"C:/Users/Nicke/OneDrive - Hogeschool Leiden/Documenten/Project_Yoni/Data/test/white/\"+i)"
   ]
  },
  {
   "cell_type": "code",
   "execution_count": null,
   "metadata": {},
   "outputs": [],
   "source": []
  }
 ],
 "metadata": {
  "kernelspec": {
   "display_name": "Python 3",
   "language": "python",
   "name": "python3"
  },
  "language_info": {
   "codemirror_mode": {
    "name": "ipython",
    "version": 3
   },
   "file_extension": ".py",
   "mimetype": "text/x-python",
   "name": "python",
   "nbconvert_exporter": "python",
   "pygments_lexer": "ipython3",
   "version": "3.8.8"
  }
 },
 "nbformat": 4,
 "nbformat_minor": 2
}
